{
  "nbformat": 4,
  "nbformat_minor": 0,
  "metadata": {
    "colab": {
      "provenance": [],
      "authorship_tag": "ABX9TyO4eQSA+Dd/xqhziIWIBHjj",
      "include_colab_link": true
    },
    "kernelspec": {
      "name": "python3",
      "display_name": "Python 3"
    },
    "language_info": {
      "name": "python"
    }
  },
  "cells": [
    {
      "cell_type": "markdown",
      "metadata": {
        "id": "view-in-github",
        "colab_type": "text"
      },
      "source": [
        "<a href=\"https://colab.research.google.com/github/carolmarquezini/preta_lab/blob/main/projeto01_notas.ipynb\" target=\"_parent\"><img src=\"https://colab.research.google.com/assets/colab-badge.svg\" alt=\"Open In Colab\"/></a>"
      ]
    },
    {
      "cell_type": "markdown",
      "source": [
        "# Projeto 1: Sistema de Gestão de Notas de Alunos\n",
        "\n",
        "**Lidando com Arquivos, Pacotes e Módulos**\n",
        "\n",
        "Objetivo: O objetivo deste projeto é desenvolver um sistema de gestão de notas de alunos em Python, que faça uso de manipulação de arquivos CSV, módulos e pacotes.\n",
        "\n"
      ],
      "metadata": {
        "id": "kK5Dbzh19ssD"
      }
    },
    {
      "cell_type": "markdown",
      "source": [
        "## Cenário - Atividade proposta 🎯"
      ],
      "metadata": {
        "id": "tjNVI9L29A5S"
      }
    },
    {
      "cell_type": "markdown",
      "source": [
        "\n",
        "1. Leitura e manipulação de arquivos CSV:\n",
        "\n",
        "O sistema deve carregar os dados de notas de um arquivo CSV contendo as seguintes colunas:\n",
        "\n",
        " - Matrícula\n",
        "\n",
        "- Nome do Aluno\n",
        "\n",
        "- Disciplina\n",
        "\n",
        "- Nota 1\n",
        "\n",
        "- Nota 2\n",
        "\n",
        "- Nota 3\n",
        "\n",
        "- Nota Final\n",
        "\n",
        "O arquivo de notas está em anexo como notas.csv\n",
        "\n",
        "2. Divisão em Módulos:\n",
        "\n",
        "- Módulo de manipulação de arquivos: Função que lê o arquivo CSV e retornam os dados.\n",
        "\n",
        "- Módulo de análise de notas: Função que calcula a média final dos alunos e identifica se o aluno está aprovado (média ≥ 6) ou reprovado.\n",
        "\n",
        "- Módulo de geração de relatórios: Função para gerar um arquivo CSV com as médias finais e o status de aprovação de cada aluno.\n",
        "\n",
        "3. Relatórios:\n",
        "\n",
        "O sistema deve gerar um arquivo CSV que contenha a média final de cada aluno e o status de aprovado ou reprovado.\n",
        "\n",
        "\n",
        "\n",
        "\n",
        "**Estrutura do Projeto:**\n",
        "\n",
        "\n",
        "![estrutura.png](data:image/png;base64,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)"
      ],
      "metadata": {
        "id": "5oStnci781CF"
      }
    },
    {
      "cell_type": "markdown",
      "source": [
        "## Preparando o ambiente 💻"
      ],
      "metadata": {
        "id": "qjOXwjbk9VS6"
      }
    },
    {
      "cell_type": "code",
      "source": [
        "# Montando o Google Drive\n",
        "from google.colab import drive\n",
        "drive.mount('/content/drive')"
      ],
      "metadata": {
        "colab": {
          "base_uri": "https://localhost:8080/"
        },
        "id": "CEl3_VyS9eoK",
        "outputId": "f9f77e11-ef80-4821-ed9d-42e4140a5847"
      },
      "execution_count": 1,
      "outputs": [
        {
          "output_type": "stream",
          "name": "stdout",
          "text": [
            "Mounted at /content/drive\n"
          ]
        }
      ]
    },
    {
      "cell_type": "code",
      "source": [
        "%cd /content/drive/MyDrive/pretaLab-ciclo11/projeto01"
      ],
      "metadata": {
        "colab": {
          "base_uri": "https://localhost:8080/"
        },
        "id": "qeqxsjnt9jWb",
        "outputId": "d9cdf444-a1e2-4ba2-8d82-73603278b0dc"
      },
      "execution_count": 2,
      "outputs": [
        {
          "output_type": "stream",
          "name": "stdout",
          "text": [
            "/content/drive/MyDrive/pretaLab-ciclo11/projeto01\n"
          ]
        }
      ]
    },
    {
      "cell_type": "code",
      "source": [
        "import os\n",
        "print(os.getcwd())"
      ],
      "metadata": {
        "colab": {
          "base_uri": "https://localhost:8080/"
        },
        "id": "nVVyyxfc9mOR",
        "outputId": "b648966f-95f4-4d2b-e6ad-72b91040e3d9"
      },
      "execution_count": 3,
      "outputs": [
        {
          "output_type": "stream",
          "name": "stdout",
          "text": [
            "/content/drive/MyDrive/pretaLab-ciclo11/projeto01\n"
          ]
        }
      ]
    },
    {
      "cell_type": "code",
      "source": [
        "!ls"
      ],
      "metadata": {
        "colab": {
          "base_uri": "https://localhost:8080/"
        },
        "id": "cjQzMU0V-vg6",
        "outputId": "9c300eb0-2af0-4007-f970-37e3b5ce554b"
      },
      "execution_count": 4,
      "outputs": [
        {
          "output_type": "stream",
          "name": "stdout",
          "text": [
            "analise_notas.py    gestao_notas\t    projeto01-notas.ipynb  relatorios\n",
            "arquivos_csv\t    main.py\t\t    __pycache__\n",
            "gerar_relatorio.py  manipulacao_arquivo.py  relatorio_notas.csv\n"
          ]
        }
      ]
    },
    {
      "cell_type": "markdown",
      "source": [
        "## Módulos 📚"
      ],
      "metadata": {
        "id": "vecntvgeRDTW"
      }
    },
    {
      "cell_type": "code",
      "source": [
        "manipular_arquivo = '''\n",
        "import pandas as pd\n",
        "import os\n",
        "\n",
        "file_path = '/content/drive/MyDrive/pretaLab-ciclo11/projeto01/arquivos_csv/notas.csv'\n",
        "\n",
        "def ler_arquivo_notas(arquivo):\n",
        "    df = pd.read_csv(arquivo)\n",
        "    return df\n",
        "\n",
        "ler_arquivo_notas(file_path)\n",
        "\n",
        "'''\n",
        "\n",
        "with open('manipular_arquivo.py', 'w') as modulo:\n",
        "    modulo.write(manipulacao_arquivo)"
      ],
      "metadata": {
        "id": "SGTsFLGhAGI-"
      },
      "execution_count": 75,
      "outputs": []
    },
    {
      "cell_type": "code",
      "source": [
        "analise_notas = '''\n",
        "def calcular_media_final(df):\n",
        "    df['Media Final'] = (((df['Nota 1'] + df['Nota 2'] + df['Nota 3']) / 3)).round(1)\n",
        "\n",
        "    return df\n",
        "\n",
        "def verificar_status(df):\n",
        "# cria coluna com status do aluno\n",
        "\n",
        "    df['Status'] = df['Media Final'].apply(lambda x: 'Aprovado' if x >= 6 else 'Reprovado')\n",
        "    return df\n",
        "'''\n",
        "\n",
        "with open('analise_notas.py', 'w') as modulo:\n",
        "    modulo.write(analise_notas)"
      ],
      "metadata": {
        "id": "tJW5XPuwB02f"
      },
      "execution_count": 76,
      "outputs": []
    },
    {
      "cell_type": "code",
      "source": [
        "gerar_relatorio = '''\n",
        "import pandas as pd\n",
        "import os\n",
        "\n",
        "def gerar_relatorio_notas(df, caminho_pasta):\n",
        "\n",
        "    if not os.path.exists(caminho_pasta):\n",
        "        os.makedirs(caminho_pasta)\n",
        "\n",
        "    caminho_arquivo = os.path.join(caminho_pasta, 'relatorio_notas.csv')\n",
        "    df.to_csv(caminho_arquivo, index=False)\n",
        "\n",
        "    print('Relatório gerado com sucesso!')\n",
        "\n",
        "'''\n",
        "\n",
        "with open('gerar_relatorio.py', 'w') as modulo:\n",
        "    modulo.write(gerar_relatorio)"
      ],
      "metadata": {
        "id": "CzJYZUHLCB9e"
      },
      "execution_count": 77,
      "outputs": []
    },
    {
      "cell_type": "code",
      "source": [
        "with open('main.py', 'w') as module:\n",
        "    module.write(\n",
        "        '''\n",
        "import manipular_arquivo\n",
        "import analise_notas\n",
        "import gerar_relatorio\n",
        "\n",
        "df = manipular_arquivo.ler_arquivo_notas('/content/drive/MyDrive/pretaLab-ciclo11/projeto01/arquivos_csv/notas.csv')\n",
        "df = analise_notas.calcular_media_final(df)\n",
        "df = analise_notas.verificar_status(df)\n",
        "gerar_relatorio.gerar_relatorio_notas(df, '/content/drive/MyDrive/pretaLab-ciclo11/projeto01/relatorios/')\n",
        "\n",
        "df.head()\n",
        "        '''\n",
        "    )\n",
        "\n",
        "!python main.py\n",
        "print('Executando o main.py')"
      ],
      "metadata": {
        "colab": {
          "base_uri": "https://localhost:8080/"
        },
        "id": "JqJ4TMq0uh3H",
        "outputId": "60047dee-8eeb-4d00-9df4-da252faffb11"
      },
      "execution_count": 78,
      "outputs": [
        {
          "output_type": "stream",
          "name": "stdout",
          "text": [
            "Relatório gerado com sucesso!\n",
            "Executando o main.py\n"
          ]
        }
      ]
    },
    {
      "cell_type": "markdown",
      "source": [
        "## Orgenizando estrutura das pastas 📁"
      ],
      "metadata": {
        "id": "z_84vtQkTGHl"
      }
    },
    {
      "cell_type": "code",
      "source": [
        "import os\n",
        "import shutil\n",
        "\n",
        "# Remove o arquivo de destino se ele existir\n",
        "if os.path.exists('gestao_notas/manipular_arquivo.py'):\n",
        "  os.remove('gestao_notas/manipular_arquivo.py')\n",
        "if os.path.exists('gestao_notas/analise_notas.py'):\n",
        "  os.remove('gestao_notas/analise_notas.py')\n",
        "if os.path.exists('gestao_notas/gerar_relatorio.py'):\n",
        "  os.remove('gestao_notas/gerar_relatorio.py')\n",
        "\n",
        "# Move os arquivos\n",
        "shutil.move('manipular_arquivo.py', 'gestao_notas')\n",
        "shutil.move('analise_notas.py', 'gestao_notas')\n",
        "shutil.move('gerar_relatorio.py', 'gestao_notas')"
      ],
      "metadata": {
        "colab": {
          "base_uri": "https://localhost:8080/",
          "height": 35
        },
        "id": "ywh5_yEYQoUu",
        "outputId": "02fc6285-2a1b-498a-a734-37eab9f10067"
      },
      "execution_count": 79,
      "outputs": [
        {
          "output_type": "execute_result",
          "data": {
            "text/plain": [
              "'gestao_notas/gerar_relatorio.py'"
            ],
            "application/vnd.google.colaboratory.intrinsic+json": {
              "type": "string"
            }
          },
          "metadata": {},
          "execution_count": 79
        }
      ]
    },
    {
      "cell_type": "code",
      "source": [
        "!ls"
      ],
      "metadata": {
        "colab": {
          "base_uri": "https://localhost:8080/"
        },
        "id": "4XZQg1g7VP_C",
        "outputId": "988c2140-3e85-496c-d4ba-f13a788130f5"
      },
      "execution_count": 80,
      "outputs": [
        {
          "output_type": "stream",
          "name": "stdout",
          "text": [
            "arquivos_csv  gestao_notas  main.py  projeto01-notas.ipynb  __pycache__  relatorios\n"
          ]
        }
      ]
    }
  ]
}