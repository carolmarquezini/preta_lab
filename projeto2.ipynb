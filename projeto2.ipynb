{
  "nbformat": 4,
  "nbformat_minor": 0,
  "metadata": {
    "colab": {
      "provenance": [],
      "include_colab_link": true
    },
    "kernelspec": {
      "name": "python3",
      "display_name": "Python 3"
    },
    "language_info": {
      "name": "python"
    }
  },
  "cells": [
    {
      "cell_type": "markdown",
      "metadata": {
        "id": "view-in-github",
        "colab_type": "text"
      },
      "source": [
        "<a href=\"https://colab.research.google.com/github/carolmarquezini/preta_lab/blob/main/projeto2.ipynb\" target=\"_parent\"><img src=\"https://colab.research.google.com/assets/colab-badge.svg\" alt=\"Open In Colab\"/></a>"
      ]
    },
    {
      "cell_type": "markdown",
      "source": [
        "# PROJETO 2: BANCO DE DADOS"
      ],
      "metadata": {
        "id": "QWUb3hiqncXV"
      }
    },
    {
      "cell_type": "markdown",
      "source": [
        "### Tabela de Comando SQL"
      ],
      "metadata": {
        "id": "F8X_z_Y9NczG"
      }
    },
    {
      "cell_type": "markdown",
      "source": [
        "| **Comando SQL**        | **Descrição**                                                                 | **Exemplo de Uso**                                                                                     |\n",
        "|------------------------|-------------------------------------------------------------------------------|---------------------------------------------------------------------------------------------------------|\n",
        "| `CREATE TABLE`          | Cria uma nova tabela no banco de dados.                                       | ```CREATE TABLE Alunos (id INTEGER PRIMARY KEY, nome TEXT);```                                           |\n",
        "| `INSERT INTO`           | Insere novos registros em uma tabela.                                         | ```INSERT INTO Alunos (id, nome) VALUES (1, 'João');```                                                  |\n",
        "| `SELECT`                | Seleciona dados de uma ou mais tabelas.                                       | ```SELECT * FROM Alunos;```                                                                             |\n",
        "| `JOIN`                  | Junta dados de duas ou mais tabelas com base em uma condição.                 | ```SELECT Alunos.nome, Cursos.nome FROM Alunos JOIN Cursos ON Alunos.id_curso = Cursos.id;```             |\n",
        "| `WHERE`                 | Filtra os resultados de uma consulta com base em uma condição.                | ```SELECT * FROM Alunos WHERE idade > 18;```                                                             |\n",
        "| `GROUP BY`              | Agrupa resultados de uma consulta em categorias.                             | ```SELECT curso, COUNT(*) FROM Alunos GROUP BY curso;```                                                 |\n",
        "| `HAVING`                | Filtra grupos após o uso de `GROUP BY`.                                       | ```SELECT curso, COUNT(*) FROM Alunos GROUP BY curso HAVING COUNT(*) > 5;```                             |\n",
        "| `ORDER BY`              | Ordena os resultados de uma consulta.                                         | ```SELECT * FROM Alunos ORDER BY nome ASC;```                                                            |\n",
        "| `UPDATE`                | Atualiza registros existentes em uma tabela.                                  | ```UPDATE Alunos SET idade = 20 WHERE id = 1;```                                                         |\n",
        "| `DELETE`                | Remove registros de uma tabela.                                               | ```DELETE FROM Alunos WHERE id = 1;```                                                                   |\n",
        "| `ALTER TABLE`           | Modifica a estrutura de uma tabela.                                           | ```ALTER TABLE Alunos ADD COLUMN email TEXT;```                                                          |\n",
        "| `DROP TABLE`            | Remove uma tabela do banco de dados.                                          | ```DROP TABLE Alunos;```                                                                                 |\n",
        "| `INNER JOIN`            | Retorna apenas os registros que possuem correspondências em ambas as tabelas. | ```SELECT Alunos.nome, Cursos.nome FROM Alunos INNER JOIN Cursos ON Alunos.id_curso = Cursos.id;```       |\n",
        "| `LEFT JOIN`             | Retorna todos os registros da tabela à esquerda e os correspondentes à direita.| ```SELECT Alunos.nome, Cursos.nome FROM Alunos LEFT JOIN Cursos ON Alunos.id_curso = Cursos.id;```        |\n",
        "| `RIGHT JOIN`            | Retorna todos os registros da tabela à direita e os correspondentes à esquerda.| ```SELECT Alunos.nome, Cursos.nome FROM Alunos RIGHT JOIN Cursos ON Alunos.id_curso = Cursos.id;```       |\n",
        "| `FULL OUTER JOIN`       | Retorna todos os registros quando há correspondência em uma das tabelas.      | ```SELECT Alunos.nome, Cursos.nome FROM Alunos FULL OUTER JOIN Cursos ON Alunos.id_curso = Cursos.id;```  |\n",
        "| `DISTINCT`              | Retorna valores distintos (não duplicados) de uma coluna.                     | ```SELECT DISTINCT curso FROM Alunos;```                                                                 |\n",
        "| `COUNT`                 | Conta o número de registros que correspondem a uma consulta.                  | ```SELECT COUNT(*) FROM Alunos;```                                                                       |\n",
        "| `AVG`                   | Calcula a média de uma coluna numérica.                                       | ```SELECT AVG(idade) FROM Alunos;```                                                                     |\n",
        "| `SUM`                   | Calcula a soma de uma coluna numérica.                                        | ```SELECT SUM(salario) FROM Funcionarios;```                                                             |\n",
        "| `MAX`                   | Retorna o valor máximo de uma coluna.                                         | ```SELECT MAX(salario) FROM Funcionarios;```                                                             |\n",
        "| `MIN`                   | Retorna o valor mínimo de uma coluna.                                         | ```SELECT MIN(salario) FROM Funcionarios;```                                                             |\n",
        "| `CREATE INDEX`          | Cria um índice para acelerar consultas.                                       | ```CREATE INDEX idx_nome ON Alunos (nome);```                                                            |\n",
        "| `DROP INDEX`            | Remove um índice.                                                             | ```DROP INDEX idx_nome;```                                                                               |\n"
      ],
      "metadata": {
        "id": "-FrH6n6mV0W0"
      }
    },
    {
      "cell_type": "markdown",
      "source": [
        "### Cenário: Análise da Jornada e Experiência do Cliente"
      ],
      "metadata": {
        "id": "xRpZC9kKn7Ow"
      }
    },
    {
      "cell_type": "markdown",
      "source": [
        "#### Descrição do Cenário:\n"
      ],
      "metadata": {
        "id": "Yu4ACahjoNBA"
      }
    },
    {
      "cell_type": "markdown",
      "source": [
        "Uma rede de hotéis está interessada em entender melhor a jornada dos seus clientes no site, bem como a experiência de reseva e estadia. A empresa tem informações sobre:\n",
        "\n",
        "  - **Navegação:** O cliente acessa o site e visualiza diferentes páginas.\n",
        "\n",
        "  - **Reservas:** O cliente faz uma reserva de quarto em um hotel.\n",
        "\n",
        "  - **Avaliações:** O cliente avalia sua experiência após a estadia.\n",
        "\n",
        "A rede quer analisar como diferentes perfis de clientes avaliam a experiência de estadia, comparando esses resultados com todo ofunil até chegar a estadia, desde a navegação até a avaliação do hotel."
      ],
      "metadata": {
        "id": "Sy7BpmGRpn5t"
      }
    },
    {
      "cell_type": "markdown",
      "source": [
        "#### Objetivo:"
      ],
      "metadata": {
        "id": "lHy5_0jYpssP"
      }
    },
    {
      "cell_type": "markdown",
      "source": [
        "  - Entender a jornada do cliente desde a navegação no site até a reserva e sua experiência final.\n",
        "\n",
        "  - Perguntas para análise:\n",
        "  1. Qual o tempo médio que os clientes gastam no site antes de fazer uma reserva?\n",
        "\n",
        "  2. Qual o percentual de clientes que realizam reservas após a navegação?\n",
        "\n",
        "3. Existe alguma correlação entre o tempo gasto no site e a avaliação dada?"
      ],
      "metadata": {
        "id": "9LbYbgeXptbj"
      }
    },
    {
      "cell_type": "markdown",
      "source": [
        "## O que você precisa fazer no Projeto 2"
      ],
      "metadata": {
        "id": "SBcUBjW1rw_g"
      }
    },
    {
      "cell_type": "markdown",
      "source": [
        " 1. Inserir os dados dos arquivos csv em um banco de dados SQLite.\n",
        "\n",
        "2. Realizar de consultas para responder às perguntas de análise.\n",
        "\n",
        "3. Salvar as consultas como tabela no banco de dados"
      ],
      "metadata": {
        "id": "-QhW1dm7r4u4"
      }
    },
    {
      "cell_type": "markdown",
      "source": [
        "### DICA:\n",
        "\n",
        "Para verificar todas as tabelas que existem em um banco de dados SQLite, você pode rodar O comando abaixo.\n",
        "\n",
        "Isso exibirá uma lista com todas as tabelas do banco de dados, permitindo verificar se as tabelas  foram criadas corretamente."
      ],
      "metadata": {
        "id": "ncWgvW0XsbXI"
      }
    },
    {
      "cell_type": "code",
      "source": [
        "cursor.execute(\"SELECT name FROM sqlite_master WHERE type='table';\")\n",
        "tabelas = cursor.fetchall()\n",
        "print(tabelas)"
      ],
      "metadata": {
        "id": "XTMfOW11n5RM"
      },
      "execution_count": null,
      "outputs": []
    },
    {
      "cell_type": "markdown",
      "source": [
        "Se quiser excluir bases do baanco de dados use o comando abaixo:"
      ],
      "metadata": {
        "id": "oBKh1CUgtJBf"
      }
    },
    {
      "cell_type": "code",
      "source": [
        "cursor.execute('DROP TABLE IF EXISTS nome_da_tabela')"
      ],
      "metadata": {
        "id": "9oytcAl7ng4i"
      },
      "execution_count": null,
      "outputs": []
    },
    {
      "cell_type": "markdown",
      "source": [
        "# RESOLUÇÃO - PROJETO 2: BANCO DE DADOS 🎯\n"
      ],
      "metadata": {
        "id": "lvooZoiTCf5P"
      }
    },
    {
      "cell_type": "markdown",
      "source": [
        "### Preparando ambiente"
      ],
      "metadata": {
        "id": "fOvUKn6Zr8de"
      }
    },
    {
      "cell_type": "code",
      "source": [
        "from google.colab import drive\n",
        "drive.mount('/content/drive')"
      ],
      "metadata": {
        "colab": {
          "base_uri": "https://localhost:8080/"
        },
        "id": "RJJhavwlr53M",
        "outputId": "a55de3f2-f475-4e01-ec68-6b8e789af3cb"
      },
      "execution_count": 2,
      "outputs": [
        {
          "output_type": "stream",
          "name": "stdout",
          "text": [
            "Mounted at /content/drive\n"
          ]
        }
      ]
    },
    {
      "cell_type": "code",
      "source": [
        "%cd /content/drive/MyDrive/pretaLab-ciclo11/projeto02/"
      ],
      "metadata": {
        "colab": {
          "base_uri": "https://localhost:8080/"
        },
        "id": "BhS855Qtsfhr",
        "outputId": "c296f78c-6527-475e-982a-13c90138a052"
      },
      "execution_count": 4,
      "outputs": [
        {
          "output_type": "stream",
          "name": "stdout",
          "text": [
            "/content/drive/MyDrive/pretaLab-ciclo11/projeto02\n"
          ]
        }
      ]
    },
    {
      "cell_type": "code",
      "source": [
        "!ls"
      ],
      "metadata": {
        "colab": {
          "base_uri": "https://localhost:8080/"
        },
        "id": "OPOU7eENsgqJ",
        "outputId": "02cce65b-5335-4e57-9697-0a45788a0e19"
      },
      "execution_count": 5,
      "outputs": [
        {
          "output_type": "stream",
          "name": "stdout",
          "text": [
            "projeto2.ipynb\treservas.csv\n"
          ]
        }
      ]
    },
    {
      "cell_type": "markdown",
      "source": [
        "### Importar e intalar bibliotecas"
      ],
      "metadata": {
        "id": "NiCbKgm4CZqB"
      }
    },
    {
      "cell_type": "code",
      "source": [
        "!pip install faker"
      ],
      "metadata": {
        "id": "NVn54ruTuElq"
      },
      "execution_count": null,
      "outputs": []
    },
    {
      "cell_type": "code",
      "source": [
        "import os\n",
        "import sqlite3\n",
        "import pandas as pd\n",
        "import csv\n",
        "import random\n",
        "from faker import Faker"
      ],
      "metadata": {
        "id": "Gw5e7kwNt8cy"
      },
      "execution_count": 42,
      "outputs": []
    },
    {
      "cell_type": "markdown",
      "source": [
        "### Conectar banco de dados SQLite"
      ],
      "metadata": {
        "id": "vxJUfF8TCOVu"
      }
    },
    {
      "cell_type": "code",
      "source": [
        "# Conectar ao banco de dados SQLite\n",
        "conexao = sqlite3.connect('hotel_data.db')\n",
        "cursor = conexao.cursor()"
      ],
      "metadata": {
        "id": "CTlu15IxuGxz"
      },
      "execution_count": 58,
      "outputs": []
    },
    {
      "cell_type": "code",
      "source": [
        "!ls"
      ],
      "metadata": {
        "colab": {
          "base_uri": "https://localhost:8080/"
        },
        "id": "W9MMRkh-vExE",
        "outputId": "b6ae2c69-f728-401b-aeb2-bb66e99654f1"
      },
      "execution_count": 10,
      "outputs": [
        {
          "output_type": "stream",
          "name": "stdout",
          "text": [
            "ecommerce.db  projeto2.ipynb  reservas.csv\n"
          ]
        }
      ]
    },
    {
      "cell_type": "markdown",
      "source": [
        "### Somente quando necessário (precisar limpar banco) rodar esses códigos:"
      ],
      "metadata": {
        "id": "Qs__sEeHAw7e"
      }
    },
    {
      "cell_type": "markdown",
      "source": [
        "#### Excluir tabelas existentes, se necessário (use somente se quiser limpar o banco)\n"
      ],
      "metadata": {
        "id": "98_jnHOPAbSz"
      }
    },
    {
      "cell_type": "code",
      "source": [
        "# Excluir tabelas existentes, se necessário (use somente se quiser limpar o banco)\n",
        "\n",
        "cursor.execute('DROP TABLE IF EXISTS reservas')\n",
        "cursor.execute('DROP TABLE IF EXISTS navegacao')\n",
        "cursor.execute('DROP TABLE IF EXISTS avaliacoes')\n",
        "cursor.execute('DROP TABLE IF EXISTS tempo_medio_site')\n",
        "cursor.execute('DROP TABLE IF EXISTS percentual_reserva')\n",
        "cursor.execute('DROP TABLE IF EXISTS correlacao_tempo_nota')\n",
        "conexao.commit()"
      ],
      "metadata": {
        "id": "lRxtBNgrAdS7"
      },
      "execution_count": 59,
      "outputs": []
    },
    {
      "cell_type": "markdown",
      "source": [
        "#### Criar as tabelas no banco de dados novamente (se necessário)\n",
        "\n",
        "\n"
      ],
      "metadata": {
        "id": "51-fXUcEAH-u"
      }
    },
    {
      "cell_type": "code",
      "source": [
        "# Criar as tabelas no banco de dados novamente (se necessário)\n",
        "cursor.execute('''\n",
        "CREATE TABLE IF NOT EXISTS reservas (\n",
        "    id_reserva INTEGER PRIMARY KEY,\n",
        "    id_cliente INTEGER,\n",
        "    data_checkin TEXT,\n",
        "    data_checkout TEXT,\n",
        "    valor_total REAL\n",
        ");\n",
        "''')\n",
        "\n",
        "cursor.execute('''\n",
        "CREATE TABLE IF NOT EXISTS navegacao (\n",
        "    cliente_id INTEGER PRIMARY KEY,\n",
        "    tempo_gasto INTEGER,\n",
        "    paginas_visitadas INTEGER\n",
        ");\n",
        "''')\n",
        "\n",
        "cursor.execute('''\n",
        "CREATE TABLE IF NOT EXISTS avaliacoes (\n",
        "    cliente_id INTEGER PRIMARY KEY,\n",
        "    nota INTEGER,\n",
        "    comentario TEXT\n",
        ");\n",
        "''')"
      ],
      "metadata": {
        "colab": {
          "base_uri": "https://localhost:8080/"
        },
        "id": "Q16__7hLAL0-",
        "outputId": "45c3934c-6d7f-474e-ed58-ee4d3fdac10f"
      },
      "execution_count": 61,
      "outputs": [
        {
          "output_type": "execute_result",
          "data": {
            "text/plain": [
              "<sqlite3.Cursor at 0x7b73f58e8440>"
            ]
          },
          "metadata": {},
          "execution_count": 61
        }
      ]
    },
    {
      "cell_type": "markdown",
      "source": [
        "### Gerar dados fictícios"
      ],
      "metadata": {
        "id": "0kw-Htnp8M2l"
      }
    },
    {
      "cell_type": "code",
      "source": [
        "# Inicializa o Faker\n",
        "fake = Faker()\n",
        "\n",
        "# Quantidade de clientes fictícios\n",
        "num_clientes = 100\n",
        "\n",
        "# Gerar dados fictícios de navegação\n",
        "navegacao_data = {\n",
        "    'id_cliente': [i for i in range(1, num_clientes+1)],\n",
        "    'tempo_gasto': [random.randint(5, 120) for _ in range(num_clientes)],  # Tempo em minutos\n",
        "    'paginas_visitadas': [random.randint(1, 20) for _ in range(num_clientes)]\n",
        "}\n",
        "\n",
        "navegacao_df = pd.DataFrame(navegacao_data)\n",
        "\n",
        "# Salvar o arquivo navegação\n",
        "navegacao_df.to_csv('navegacao.csv', index=False)\n"
      ],
      "metadata": {
        "id": "Ayo6sBwOz2UT"
      },
      "execution_count": 62,
      "outputs": []
    },
    {
      "cell_type": "code",
      "source": [
        "# Gerar dados fictícios de avaliações\n",
        "avaliacoes_data = {\n",
        "    'id_cliente': [i for i in range(1, num_clientes+1)],\n",
        "    'nota': [random.randint(1, 5) for _ in range(num_clientes)],  # Notas entre 1 e 5\n",
        "    'comentario': [fake.sentence() for _ in range(num_clientes)]  # Comentários fictícios\n",
        "}\n",
        "\n",
        "avaliacoes_df = pd.DataFrame(avaliacoes_data)\n",
        "\n",
        "# Salvar o arquivo avaliações\n",
        "avaliacoes_df.to_csv('avaliacoes.csv', index=False)\n"
      ],
      "metadata": {
        "id": "-HMcRHEb0BGZ"
      },
      "execution_count": 63,
      "outputs": []
    },
    {
      "cell_type": "markdown",
      "source": [
        "### Inserir dados dos arquivos CSV no banco de dados"
      ],
      "metadata": {
        "id": "nKjJddpU8JMH"
      }
    },
    {
      "cell_type": "code",
      "source": [
        "# Carregar os CSVs\n",
        "navegacao_df = pd.read_csv('navegacao.csv')\n",
        "reservas_df = pd.read_csv('reservas.csv')\n",
        "avaliacoes_df = pd.read_csv('avaliacoes.csv')\n",
        "\n",
        "# Inserir dados no SQLite\n",
        "navegacao_df.to_sql('navegacao', conexao, if_exists='replace', index=False)\n",
        "reservas_df.to_sql('reservas', conexao, if_exists='replace', index=False)\n",
        "avaliacoes_df.to_sql('avaliacoes', conexao, if_exists='replace', index=False)\n",
        "\n",
        "conexao.commit()"
      ],
      "metadata": {
        "id": "NpqiBudMwtog"
      },
      "execution_count": 64,
      "outputs": []
    },
    {
      "cell_type": "markdown",
      "source": [
        "### Tempo médio gasto no site antes de fazer uma reserva:"
      ],
      "metadata": {
        "id": "5iTUoYj68WBq"
      }
    },
    {
      "cell_type": "code",
      "source": [
        "# Tempo médio gasto no site antes de fazer uma reserva:\n",
        "sql_query = (\"\"\"\n",
        "SELECT AVG(navegacao.tempo_gasto) AS tempo_medio\n",
        "FROM navegacao\n",
        "JOIN reservas ON navegacao.id_cliente = reservas.id_cliente;\n",
        "\"\"\")\n",
        "\n",
        "tempo_medio_df = pd.read_sql_query(sql_query, conexao)\n",
        "tempo_medio_df.to_sql('tempo_medio_site', conexao, if_exists='replace', index=False)\n",
        "print(tempo_medio_df)"
      ],
      "metadata": {
        "colab": {
          "base_uri": "https://localhost:8080/"
        },
        "id": "NdrR0orvxvGL",
        "outputId": "58b29cf6-d966-4697-e7c0-d4a8e1b1a8fe"
      },
      "execution_count": 65,
      "outputs": [
        {
          "output_type": "stream",
          "name": "stdout",
          "text": [
            "   tempo_medio\n",
            "0    68.784314\n"
          ]
        }
      ]
    },
    {
      "cell_type": "markdown",
      "source": [
        "### Percentual de clientes que fazem reservas após a navegação:\n"
      ],
      "metadata": {
        "id": "KSif2HSO8hNn"
      }
    },
    {
      "cell_type": "code",
      "source": [
        "# Percentual de clientes que fazem reservas após a navegação:\n",
        "\n",
        "sql_query = '''\n",
        "SELECT\n",
        "(CAST(COUNT(DISTINCT reservas.id_cliente) AS FLOAT) / COUNT(DISTINCT navegacao.id_cliente)) * 100 AS percentual_reserva\n",
        "FROM navegacao\n",
        "LEFT JOIN reservas ON navegacao.id_cliente = reservas.id_cliente;\n",
        "'''\n",
        "percentual_reserva_df = pd.read_sql_query(sql_query, conexao)\n",
        "percentual_reserva_df.to_sql('percentual_reserva', conexao, if_exists='replace', index=False)\n",
        "print(percentual_reserva_df)"
      ],
      "metadata": {
        "colab": {
          "base_uri": "https://localhost:8080/"
        },
        "id": "Yfjc4H5W2TXw",
        "outputId": "07ac7fda-0de5-4c91-a3c2-744298706e8c"
      },
      "execution_count": 66,
      "outputs": [
        {
          "output_type": "stream",
          "name": "stdout",
          "text": [
            "   percentual_reserva\n",
            "0                68.0\n"
          ]
        }
      ]
    },
    {
      "cell_type": "markdown",
      "source": [
        "### Correlação entre o tempo no site e a avaliação:"
      ],
      "metadata": {
        "id": "XjzDhwY49TNw"
      }
    },
    {
      "cell_type": "code",
      "source": [
        "# Correlação entre o tempo no site e a avaliação:\n",
        "sql_query = '''\n",
        "SELECT navegacao.tempo_gasto, avaliacoes.nota\n",
        "FROM navegacao\n",
        "JOIN reservas ON navegacao.id_cliente = reservas.id_cliente\n",
        "JOIN avaliacoes ON reservas.id_cliente = avaliacoes.id_cliente;\n",
        "'''\n",
        "correlacao_df = pd.read_sql_query(sql_query, conexao)\n",
        "correlacao = correlacao_df['tempo_gasto'].corr(correlacao_df['nota'])\n",
        "print(\"Correlação entre tempo no site e avaliação:\", correlacao)"
      ],
      "metadata": {
        "colab": {
          "base_uri": "https://localhost:8080/"
        },
        "id": "JTzCkxYQ5oo-",
        "outputId": "018395e8-29c0-4596-bf70-55a4610af934"
      },
      "execution_count": 67,
      "outputs": [
        {
          "output_type": "stream",
          "name": "stdout",
          "text": [
            "Correlação entre tempo no site e avaliação: 0.2748810582716605\n"
          ]
        }
      ]
    },
    {
      "cell_type": "markdown",
      "source": [
        "### Salvar dados"
      ],
      "metadata": {
        "id": "64fuhv5NBzes"
      }
    },
    {
      "cell_type": "code",
      "source": [
        "# Salvar tempo médio:\n",
        "\n",
        "cursor.execute('''\n",
        "CREATE TABLE IF NOT EXISTS tempo_medio AS\n",
        "SELECT AVG(navegacao.tempo_gasto) AS tempo_medio\n",
        "FROM navegacao\n",
        "JOIN reservas ON navegacao.id_cliente = reservas.id_cliente;\n",
        "''')\n",
        "conexao.commit()"
      ],
      "metadata": {
        "id": "_uk2yu5o6ERl"
      },
      "execution_count": 68,
      "outputs": []
    },
    {
      "cell_type": "code",
      "source": [
        "# Salvar percentual de reservas:\n",
        "\n",
        "cursor.execute('''\n",
        "CREATE TABLE IF NOT EXISTS percentual_reserva AS\n",
        "SELECT\n",
        "(CAST(COUNT(DISTINCT reservas.id_cliente) AS FLOAT) / COUNT(DISTINCT navegacao.id_cliente)) * 100 AS percentual_reserva\n",
        "FROM navegacao\n",
        "LEFT JOIN reservas ON navegacao.id_cliente = reservas.id_cliente;\n",
        "''')\n",
        "conexao.commit()"
      ],
      "metadata": {
        "id": "4U5_Veji6QTI"
      },
      "execution_count": 69,
      "outputs": []
    },
    {
      "cell_type": "code",
      "source": [
        "# Salvar correlação:\n",
        "\n",
        "cursor.execute('''\n",
        "CREATE TABLE IF NOT EXISTS correlacao_tempo_nota (correlacao REAL);\n",
        "''')\n",
        "cursor.execute('''\n",
        "INSERT INTO correlacao_tempo_nota VALUES (?);\n",
        "''', (correlacao,))\n",
        "conexao.commit()"
      ],
      "metadata": {
        "id": "QC9ey9C16ZS1"
      },
      "execution_count": 70,
      "outputs": []
    },
    {
      "cell_type": "markdown",
      "source": [
        "### Verificar tabelas existentes no banco de dados"
      ],
      "metadata": {
        "id": "tQmmtgieB5FZ"
      }
    },
    {
      "cell_type": "code",
      "source": [
        "# Verificar todas as tabelas existentes no banco de dados\n",
        "cursor.execute(\"SELECT name FROM sqlite_master WHERE type='table';\")\n",
        "tabelas = cursor.fetchall()\n",
        "print(\"Tabelas no banco de dados:\", tabelas)"
      ],
      "metadata": {
        "colab": {
          "base_uri": "https://localhost:8080/"
        },
        "id": "C0-9F3I0-xYE",
        "outputId": "5fd458eb-d7e6-40a9-f398-63112126c588"
      },
      "execution_count": 71,
      "outputs": [
        {
          "output_type": "stream",
          "name": "stdout",
          "text": [
            "Tabelas no banco de dados: [('tempo_medio',), ('navegacao',), ('reservas',), ('avaliacoes',), ('tempo_medio_site',), ('percentual_reserva',), ('correlacao_tempo_nota',)]\n"
          ]
        }
      ]
    },
    {
      "cell_type": "markdown",
      "source": [
        "### Encerrar conexão com banco de dados"
      ],
      "metadata": {
        "id": "GN0K5ZpuB_dp"
      }
    },
    {
      "cell_type": "code",
      "source": [
        "conexao.close()\n",
        "print(\"Consultas realizadas e resultados salvos no banco de dados.\")"
      ],
      "metadata": {
        "colab": {
          "base_uri": "https://localhost:8080/"
        },
        "id": "49Zfl04Y9sST",
        "outputId": "43f4f00e-f358-4bc5-b077-2b03f43c2ed2"
      },
      "execution_count": 72,
      "outputs": [
        {
          "output_type": "stream",
          "name": "stdout",
          "text": [
            "Consultas realizadas e resultados salvos no banco de dados.\n"
          ]
        }
      ]
    }
  ]
}